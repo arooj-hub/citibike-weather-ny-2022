


import pandas as pd 
import numpy as np
import os 
import requests
import json
from datetime import datetime
import glob


# This grabs all CSV files inside the "2022" folder
files = glob.glob("2022/*.csv")


# Load each CSV and combine into one DataFrame
df_list = [pd.read_csv(file) for file in files]
citibike_df = pd.concat(df_list, ignore_index=True)



# Extract date from 'started_at'
citibike_df['started_at'] = pd.to_datetime(citibike_df['started_at'])
citibike_df['date'] = citibike_df['started_at'].dt.date


# ✅ Preview the result
citibike_df.head()


citibike_df.shape








token = 'IkCWCgYCQyYduQYjBjDiTZCQLBXzLNdN'
headers = {'token': token}

params = {
    'datasetid': 'GHCND',
    'stationid': 'GHCND:USW00014732',  # LaGuardia Airport
    'startdate': '2022-01-01',
    'enddate': '2022-12-31',
    'limit': 1000,
    'units': 'standard'
}

response = requests.get("https://www.ncdc.noaa.gov/cdo-web/api/v2/data", headers=headers, params=params)
weather_data = response.json()



# export to csv
with open('weather_2022.json', 'w') as f:
    json.dump(weather_data, f)



weather_df = pd.read_csv("weather_2022.json")
weather_df['date'] = pd.to_datetime(weather_df['date']).dt.date



# Load raw JSON data from NOAA
with open("weather_2022.json", "r") as f:
    data = json.load(f)



# Extract the 'results' list
weather_records = data.get('results', [])



# Convert to DataFrame
weather_raw_df = pd.DataFrame(weather_records)


# Convert 'date' to datetime and keep only the date part
weather_raw_df['date'] = pd.to_datetime(weather_raw_df['date']).dt.date


# Pivot so each weather type (TMAX, TMIN, PRCP, etc.) is a column
weather_df = weather_raw_df.pivot_table(
    index='date',
    columns='datatype',
    values='value',
    aggfunc='first'  # If there's a duplicate, take the first one
).reset_index()


# Display the final DataFrame
weather_df.head()





# Assume weather_df has 'date', 'temp', 'precip'
merged_df = citibike_df.merge(weather_df, on='date', how='left')
merged_df.to_csv('citibike_weather_2022.csv', index=False)





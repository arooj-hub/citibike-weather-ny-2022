# Import libraries
import pandas as pd
import seaborn as sns
import matplotlib.pyplot as plt


# Set theme
sns.set_theme(style="whitegrid", palette="viridis")


# Sample data creation (simulate a small working set for the notebook)
data = {
    'date': pd.date_range(start='2022-01-01', periods=10, freq='D'),
    'start_station_name': ['Station A', 'Station B', 'Station C', 'Station D', 'Station E',
                           'Station A', 'Station B', 'Station C', 'Station D', 'Station E'],
    'trip_count': [100, 150, 120, 130, 80, 170, 180, 110, 160, 140],
    'temperature': [2, 3, 4, 5, 3, 6, 7, 4, 8, 5],
    'user_type': ['Subscriber', 'Customer', 'Subscriber', 'Customer', 'Subscriber',
                  'Customer', 'Subscriber', 'Customer', 'Subscriber', 'Customer']
}
df = pd.DataFrame(data)


# --- Bar Chart of Top Start Stations ---
plt.figure(figsize=(10, 6))
top_stations = df['start_station_name'].value_counts()
sns.barplot(x=top_stations.values, y=top_stations.index, palette="viridis")
plt.title("Top Starting Stations by Frequency")
plt.xlabel("Trip Count")
plt.ylabel("Start Station")
plt.tight_layout()
plt.show()


# --- Dual-Axis Line Chart ---
fig, ax1 = plt.subplots(figsize=(12, 6))
sns.lineplot(x='date', y='trip_count', data=df, ax=ax1, color='blue', label="Trip Count")
ax1.set_ylabel("Trip Count", color='blue')
ax1.tick_params(axis='y', labelcolor='blue')


ax2 = ax1.twinx()
sns.lineplot(x='date', y='temperature', data=df, ax=ax2, color='red', label="Temperature")
ax2.set_ylabel("Temperature (°C)", color='red')
ax2.tick_params(axis='y', labelcolor='red')


ax1.set_title("Trip Count vs Temperature Over Time")
fig.tight_layout()
plt.show()


# --- Box Plot by User Type ---
plt.figure(figsize=(8, 6))
sns.boxplot(x='user_type', y='trip_count', data=df, palette="Set2")
plt.title("Trip Count Distribution by User Type")
plt.xlabel("User Type")
plt.ylabel("Trip Count")
plt.tight_layout()
plt.show()





# --- FacetGrid Boxplot ---
g = sns.FacetGrid(df, col="user_type", height=5, aspect=1.2)
g.map_dataframe(sns.boxplot, x="start_station_name", y="trip_count", palette="coolwarm")
g.set_xticklabels(rotation=45)
g.fig.subplots_adjust(top=0.85)
g.fig.suptitle("Trip Count by Station and User Type")
plt.show()







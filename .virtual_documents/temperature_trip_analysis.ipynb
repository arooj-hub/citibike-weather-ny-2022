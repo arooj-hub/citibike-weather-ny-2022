


import pandas as pd
import matplotlib.pyplot as plt


import pandas as pd
import glob

# Read and combine all CitiBike CSVs
trip_files = glob.glob("2022/*.csv")
trip_list = [pd.read_csv(file) for file in trip_files]
citibike_df = pd.concat(trip_list, ignore_index=True)

# Convert to datetime and extract date
citibike_df['started_at'] = pd.to_datetime(citibike_df['started_at'])
citibike_df['date'] = citibike_df['started_at'].dt.date



import json

# Load the NOAA weather JSON file
with open("weather_2022.json", "r") as f:
    weather_data = json.load(f)

# Extract results list
weather_records = weather_data.get('results', [])
weather_raw_df = pd.DataFrame(weather_records)

# Convert date and pivot to wide format
weather_raw_df['date'] = pd.to_datetime(weather_raw_df['date']).dt.date
weather_df = weather_raw_df.pivot_table(
    index='date',
    columns='datatype',
    values='value',
    aggfunc='first'
).reset_index()

# Rename some columns for clarity
weather_df.rename(columns={
    'TMAX': 'max_temp',
    'TMIN': 'min_temp',
    'PRCP': 'precip'
}, inplace=True)



# Merge trips with weather by date
merged_df = citibike_df.merge(weather_df, on='date', how='left')



merged_df.to_csv("citibike_weather_2022.csv", index=False)
print("File saved ✅")



df = pd.read_csv("citibike_weather_2022.csv")
df['date'] = pd.to_datetime(df['date'])
df.head()






df = pd.read_csv("citibike_weather_2022.csv")
df['date'] = pd.to_datetime(df['date'])






df.groupby('date')['max_temp'].mean().plot(figsize=(12,5), title='Max Temperature in NYC (2022)')
plt.xlabel("Date")
plt.ylabel("Max Temperature (°F)")
plt.grid(True)
plt.show()






# Count number of trips per day
trip_counts = df.groupby('date')['ride_id'].count().reset_index()
trip_counts.rename(columns={'ride_id': 'trip_count'}, inplace=True)

# Merge back into the DataFrame
df_daily = df.drop_duplicates(subset='date', keep='first')  # avoid duplicate merge
df_daily = df_daily.merge(trip_counts, on='date')






fig, ax1 = plt.subplots(figsize=(14,6))

# Plot trip count
ax1.plot(df_daily['date'], df_daily['trip_count'], color='blue', label='Trip Count')
ax1.set_xlabel('Date')
ax1.set_ylabel('Trip Count', color='blue')
ax1.tick_params(axis='y', labelcolor='blue')

# Plot temperature on secondary axis
ax2 = ax1.twinx()
ax2.plot(df_daily['date'], df_daily['max_temp'], color='red', label='Max Temp')
ax2.set_ylabel('Max Temperature (°F)', color='red')
ax2.tick_params(axis='y', labelcolor='red')

plt.title('NYC CitiBike Trip Count vs Max Temperature (2022)')
plt.grid(True)
plt.show()









git add .
git commit -m "Added Matplotlib visualizations"
git push origin main





{
 "cells": [
  {
   "cell_type": "code",
   "execution_count": 35,
   "id": "4ee332c2-7542-4cda-a365-9d0f36d5e650",
   "metadata": {},
   "outputs": [],
   "source": [
    "import streamlit as st\n",
    "import pandas as pd\n",
    "import plotly.express as px\n",
    "import plotly.graph_objects as go\n"
   ]
  },
  {
   "cell_type": "code",
   "execution_count": 40,
   "id": "18c2f4a3-2771-4df1-a994-e210925c8710",
   "metadata": {},
   "outputs": [
    {
     "name": "stderr",
     "output_type": "stream",
     "text": [
      "2025-05-31 15:01:23.004 Thread 'MainThread': missing ScriptRunContext! This warning can be ignored when running in bare mode.\n"
     ]
    }
   ],
   "source": [
    "# Page setup\n",
    "st.set_page_config(page_title=\"NYC CitiBike Dashboard\", layout=\"wide\")\n"
   ]
  },
  {
   "cell_type": "code",
   "execution_count": 41,
   "id": "6fd73e9f-1d24-47ee-b50e-74eac5718993",
   "metadata": {},
   "outputs": [
    {
     "name": "stderr",
     "output_type": "stream",
     "text": [
      "2025-05-31 15:01:23.847 Thread 'MainThread': missing ScriptRunContext! This warning can be ignored when running in bare mode.\n",
      "2025-05-31 15:01:23.849 Thread 'MainThread': missing ScriptRunContext! This warning can be ignored when running in bare mode.\n",
      "2025-05-31 15:01:23.851 Thread 'MainThread': missing ScriptRunContext! This warning can be ignored when running in bare mode.\n",
      "2025-05-31 15:01:23.853 Thread 'MainThread': missing ScriptRunContext! This warning can be ignored when running in bare mode.\n"
     ]
    },
    {
     "data": {
      "text/plain": [
       "DeltaGenerator()"
      ]
     },
     "execution_count": 41,
     "metadata": {},
     "output_type": "execute_result"
    }
   ],
   "source": [
    "# Title\n",
    "st.title(\"🚲 NYC CitiBike Dashboard\")\n",
    "st.markdown(\"An interactive dashboard exploring CitiBike usage patterns and weather impact in NYC (2022)\")"
   ]
  },
  {
   "cell_type": "code",
   "execution_count": 42,
   "id": "0111093d-03da-4376-a874-29d5695ceb65",
   "metadata": {},
   "outputs": [],
   "source": [
    "# Load data\n",
    "df = pd.read_csv(\"citibike_weather_2022.csv\")\n",
    "df['date'] = pd.to_datetime(df['date'])\n"
   ]
  },
  {
   "cell_type": "code",
   "execution_count": null,
   "id": "6fb3bf90-38da-4c58-821d-1dbed55ab184",
   "metadata": {},
   "outputs": [],
   "source": [
    "# Bar chart\n",
    "st.subheader(\"🔝 Top 20 Start Stations\")\n",
    "top_stations = df['start_station_name'].value_counts().nlargest(20).reset_index()\n",
    "top_stations.columns = ['start_station_name', 'trip_count']\n",
    "fig_bar = px.bar(top_stations, x='start_station_name', y='trip_count')\n",
    "st.plotly_chart(fig_bar, use_container_width=True)\n",
    "\n"
   ]
  },
  {
   "cell_type": "code",
   "execution_count": null,
   "id": "61a31dfb-88b6-4f87-afa0-e4224f596d9c",
   "metadata": {},
   "outputs": [],
   "source": [
    "#  Line chart – Trips vs Temperature Over Time\n",
    "\n",
    "# Convert to datetime if not done already\n",
    "df['date'] = pd.to_datetime(df['date'])\n",
    "\n",
    "# Group by date, count trips, and get mean temperature\n",
    "df_daily = df.groupby('date').agg({\n",
    "    'ride_id': 'count',       # trips\n",
    "    'TAVG': 'mean'            # average temp\n",
    "}).reset_index()\n",
    "\n",
    "# Create figure\n",
    "fig_line = go.Figure()\n",
    "\n",
    "# Add Trips\n",
    "fig_line.add_trace(go.Scatter(\n",
    "    x=df_daily['date'],\n",
    "    y=df_daily['ride_id'],\n",
    "    name='Trips',\n",
    "    yaxis='y1'\n",
    "))\n",
    "\n",
    "# Add Temperature\n",
    "fig_line.add_trace(go.Scatter(\n",
    "    x=df_daily['date'],\n",
    "    y=df_daily['TAVG'],\n",
    "    name='Avg Temp',\n",
    "    yaxis='y2'\n",
    "))\n",
    "\n",
    "# Layout\n",
    "fig_line.update_layout(\n",
    "    title='Trips vs Avg Temperature Over Time',\n",
    "    xaxis_title='Date',\n",
    "    yaxis=dict(title='Trip Count'),\n",
    "    yaxis2=dict(title='Avg Temp (°F)', overlaying='y', side='right'),\n",
    "    legend=dict(x=0.01, y=0.99)\n",
    ")\n",
    "\n",
    "# Show in Streamlit\n",
    "st.plotly_chart(fig_line, use_container_width=True)\n"
   ]
  },
  {
   "cell_type": "code",
   "execution_count": 47,
   "id": "7efcc260-3aea-402b-a17b-5455cfd80530",
   "metadata": {},
   "outputs": [
    {
     "name": "stderr",
     "output_type": "stream",
     "text": [
      "2025-05-31 15:27:25.304 Thread 'MainThread': missing ScriptRunContext! This warning can be ignored when running in bare mode.\n",
      "2025-05-31 15:27:25.430 Thread 'MainThread': missing ScriptRunContext! This warning can be ignored when running in bare mode.\n"
     ]
    },
    {
     "data": {
      "text/plain": [
       "DeltaGenerator()"
      ]
     },
     "execution_count": 47,
     "metadata": {},
     "output_type": "execute_result"
    }
   ],
   "source": [
    "with open('kepler_custom_map.html', 'r', encoding='utf-8') as f:\n",
    "    html_string = f.read()\n",
    "st.components.v1.html(html_string, height=600)\n",
    "\n"
   ]
  },
  {
   "cell_type": "code",
   "execution_count": 50,
   "id": "148c14ef-8ac6-4ca3-8091-3122ca350225",
   "metadata": {},
   "outputs": [
    {
     "ename": "NameError",
     "evalue": "name 'map_1' is not defined",
     "output_type": "error",
     "traceback": [
      "\u001b[31m---------------------------------------------------------------------------\u001b[39m",
      "\u001b[31mNameError\u001b[39m                                 Traceback (most recent call last)",
      "\u001b[36mCell\u001b[39m\u001b[36m \u001b[39m\u001b[32mIn[50]\u001b[39m\u001b[32m, line 1\u001b[39m\n\u001b[32m----> \u001b[39m\u001b[32m1\u001b[39m \u001b[43mmap_1\u001b[49m.save_to_html(file_name=\u001b[33m'\u001b[39m\u001b[33mkepler_custom_map_light.html\u001b[39m\u001b[33m'\u001b[39m)\n",
      "\u001b[31mNameError\u001b[39m: name 'map_1' is not defined"
     ]
    }
   ],
   "source": [
    "map_1.save_to_html(file_name='kepler_custom_map_light.html')\n"
   ]
  },
  {
   "cell_type": "code",
   "execution_count": null,
   "id": "a751185a-28f4-4a10-9e27-58c79ab932ec",
   "metadata": {},
   "outputs": [],
   "source": []
  }
 ],
 "metadata": {
  "kernelspec": {
   "display_name": "Python 3 (ipykernel)",
   "language": "python",
   "name": "python3"
  },
  "language_info": {
   "codemirror_mode": {
    "name": "ipython",
    "version": 3
   },
   "file_extension": ".py",
   "mimetype": "text/x-python",
   "name": "python",
   "nbconvert_exporter": "python",
   "pygments_lexer": "ipython3",
   "version": "3.12.7"
  }
 },
 "nbformat": 4,
 "nbformat_minor": 5
}
